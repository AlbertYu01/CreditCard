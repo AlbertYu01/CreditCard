{
 "cells": [
  {
   "cell_type": "code",
   "execution_count": 1,
   "metadata": {
    "collapsed": true,
    "deletable": true,
    "editable": true
   },
   "outputs": [],
   "source": [
    "import pandas as pd\n",
    "import matplotlib.pyplot as plt\n",
    "import numpy as np\n",
    "import seaborn as sns\n",
    "\n",
    "%matplotlib inline"
   ]
  },
  {
   "cell_type": "code",
   "execution_count": 2,
   "metadata": {
    "collapsed": false,
    "deletable": true,
    "editable": true
   },
   "outputs": [
    {
     "data": {
      "text/html": [
       "<div>\n",
       "<table border=\"1\" class=\"dataframe\">\n",
       "  <thead>\n",
       "    <tr style=\"text-align: right;\">\n",
       "      <th></th>\n",
       "      <th>Time</th>\n",
       "      <th>V1</th>\n",
       "      <th>V2</th>\n",
       "      <th>V3</th>\n",
       "      <th>V4</th>\n",
       "      <th>V5</th>\n",
       "      <th>V6</th>\n",
       "      <th>V7</th>\n",
       "      <th>V8</th>\n",
       "      <th>V9</th>\n",
       "      <th>...</th>\n",
       "      <th>V21</th>\n",
       "      <th>V22</th>\n",
       "      <th>V23</th>\n",
       "      <th>V24</th>\n",
       "      <th>V25</th>\n",
       "      <th>V26</th>\n",
       "      <th>V27</th>\n",
       "      <th>V28</th>\n",
       "      <th>Amount</th>\n",
       "      <th>Class</th>\n",
       "    </tr>\n",
       "  </thead>\n",
       "  <tbody>\n",
       "    <tr>\n",
       "      <th>0</th>\n",
       "      <td>0.0</td>\n",
       "      <td>-1.359807</td>\n",
       "      <td>-0.072781</td>\n",
       "      <td>2.536347</td>\n",
       "      <td>1.378155</td>\n",
       "      <td>-0.338321</td>\n",
       "      <td>0.462388</td>\n",
       "      <td>0.239599</td>\n",
       "      <td>0.098698</td>\n",
       "      <td>0.363787</td>\n",
       "      <td>...</td>\n",
       "      <td>-0.018307</td>\n",
       "      <td>0.277838</td>\n",
       "      <td>-0.110474</td>\n",
       "      <td>0.066928</td>\n",
       "      <td>0.128539</td>\n",
       "      <td>-0.189115</td>\n",
       "      <td>0.133558</td>\n",
       "      <td>-0.021053</td>\n",
       "      <td>149.62</td>\n",
       "      <td>0</td>\n",
       "    </tr>\n",
       "    <tr>\n",
       "      <th>1</th>\n",
       "      <td>0.0</td>\n",
       "      <td>1.191857</td>\n",
       "      <td>0.266151</td>\n",
       "      <td>0.166480</td>\n",
       "      <td>0.448154</td>\n",
       "      <td>0.060018</td>\n",
       "      <td>-0.082361</td>\n",
       "      <td>-0.078803</td>\n",
       "      <td>0.085102</td>\n",
       "      <td>-0.255425</td>\n",
       "      <td>...</td>\n",
       "      <td>-0.225775</td>\n",
       "      <td>-0.638672</td>\n",
       "      <td>0.101288</td>\n",
       "      <td>-0.339846</td>\n",
       "      <td>0.167170</td>\n",
       "      <td>0.125895</td>\n",
       "      <td>-0.008983</td>\n",
       "      <td>0.014724</td>\n",
       "      <td>2.69</td>\n",
       "      <td>0</td>\n",
       "    </tr>\n",
       "    <tr>\n",
       "      <th>2</th>\n",
       "      <td>1.0</td>\n",
       "      <td>-1.358354</td>\n",
       "      <td>-1.340163</td>\n",
       "      <td>1.773209</td>\n",
       "      <td>0.379780</td>\n",
       "      <td>-0.503198</td>\n",
       "      <td>1.800499</td>\n",
       "      <td>0.791461</td>\n",
       "      <td>0.247676</td>\n",
       "      <td>-1.514654</td>\n",
       "      <td>...</td>\n",
       "      <td>0.247998</td>\n",
       "      <td>0.771679</td>\n",
       "      <td>0.909412</td>\n",
       "      <td>-0.689281</td>\n",
       "      <td>-0.327642</td>\n",
       "      <td>-0.139097</td>\n",
       "      <td>-0.055353</td>\n",
       "      <td>-0.059752</td>\n",
       "      <td>378.66</td>\n",
       "      <td>0</td>\n",
       "    </tr>\n",
       "    <tr>\n",
       "      <th>3</th>\n",
       "      <td>1.0</td>\n",
       "      <td>-0.966272</td>\n",
       "      <td>-0.185226</td>\n",
       "      <td>1.792993</td>\n",
       "      <td>-0.863291</td>\n",
       "      <td>-0.010309</td>\n",
       "      <td>1.247203</td>\n",
       "      <td>0.237609</td>\n",
       "      <td>0.377436</td>\n",
       "      <td>-1.387024</td>\n",
       "      <td>...</td>\n",
       "      <td>-0.108300</td>\n",
       "      <td>0.005274</td>\n",
       "      <td>-0.190321</td>\n",
       "      <td>-1.175575</td>\n",
       "      <td>0.647376</td>\n",
       "      <td>-0.221929</td>\n",
       "      <td>0.062723</td>\n",
       "      <td>0.061458</td>\n",
       "      <td>123.50</td>\n",
       "      <td>0</td>\n",
       "    </tr>\n",
       "    <tr>\n",
       "      <th>4</th>\n",
       "      <td>2.0</td>\n",
       "      <td>-1.158233</td>\n",
       "      <td>0.877737</td>\n",
       "      <td>1.548718</td>\n",
       "      <td>0.403034</td>\n",
       "      <td>-0.407193</td>\n",
       "      <td>0.095921</td>\n",
       "      <td>0.592941</td>\n",
       "      <td>-0.270533</td>\n",
       "      <td>0.817739</td>\n",
       "      <td>...</td>\n",
       "      <td>-0.009431</td>\n",
       "      <td>0.798278</td>\n",
       "      <td>-0.137458</td>\n",
       "      <td>0.141267</td>\n",
       "      <td>-0.206010</td>\n",
       "      <td>0.502292</td>\n",
       "      <td>0.219422</td>\n",
       "      <td>0.215153</td>\n",
       "      <td>69.99</td>\n",
       "      <td>0</td>\n",
       "    </tr>\n",
       "  </tbody>\n",
       "</table>\n",
       "<p>5 rows × 31 columns</p>\n",
       "</div>"
      ],
      "text/plain": [
       "   Time        V1        V2        V3        V4        V5        V6        V7  \\\n",
       "0   0.0 -1.359807 -0.072781  2.536347  1.378155 -0.338321  0.462388  0.239599   \n",
       "1   0.0  1.191857  0.266151  0.166480  0.448154  0.060018 -0.082361 -0.078803   \n",
       "2   1.0 -1.358354 -1.340163  1.773209  0.379780 -0.503198  1.800499  0.791461   \n",
       "3   1.0 -0.966272 -0.185226  1.792993 -0.863291 -0.010309  1.247203  0.237609   \n",
       "4   2.0 -1.158233  0.877737  1.548718  0.403034 -0.407193  0.095921  0.592941   \n",
       "\n",
       "         V8        V9  ...         V21       V22       V23       V24  \\\n",
       "0  0.098698  0.363787  ...   -0.018307  0.277838 -0.110474  0.066928   \n",
       "1  0.085102 -0.255425  ...   -0.225775 -0.638672  0.101288 -0.339846   \n",
       "2  0.247676 -1.514654  ...    0.247998  0.771679  0.909412 -0.689281   \n",
       "3  0.377436 -1.387024  ...   -0.108300  0.005274 -0.190321 -1.175575   \n",
       "4 -0.270533  0.817739  ...   -0.009431  0.798278 -0.137458  0.141267   \n",
       "\n",
       "        V25       V26       V27       V28  Amount  Class  \n",
       "0  0.128539 -0.189115  0.133558 -0.021053  149.62      0  \n",
       "1  0.167170  0.125895 -0.008983  0.014724    2.69      0  \n",
       "2 -0.327642 -0.139097 -0.055353 -0.059752  378.66      0  \n",
       "3  0.647376 -0.221929  0.062723  0.061458  123.50      0  \n",
       "4 -0.206010  0.502292  0.219422  0.215153   69.99      0  \n",
       "\n",
       "[5 rows x 31 columns]"
      ]
     },
     "execution_count": 2,
     "metadata": {},
     "output_type": "execute_result"
    }
   ],
   "source": [
    "data = pd.read_csv(\"input/creditcard.csv\")\n",
    "data.head()"
   ]
  },
  {
   "cell_type": "code",
   "execution_count": 3,
   "metadata": {
    "collapsed": true,
    "deletable": true,
    "editable": true
   },
   "outputs": [],
   "source": [
    "data['Hour'] = data[\"Time\"].apply(lambda x : divmod(x, 3600)[0])"
   ]
  },
  {
   "cell_type": "code",
   "execution_count": 4,
   "metadata": {
    "collapsed": true,
    "deletable": true,
    "editable": true
   },
   "outputs": [],
   "source": [
    "droplist = [ 'V13', 'V15', 'V20', 'V21', 'V22', 'V23', 'V24', 'V25', 'V26', 'V27', 'V28','Time']\n",
    "#droplist = [ 'V13', 'V15',  'V22', 'V24', 'V25']\n",
    "data_new = data.drop(droplist, axis = 1)"
   ]
  },
  {
   "cell_type": "code",
   "execution_count": 5,
   "metadata": {
    "collapsed": true,
    "deletable": true,
    "editable": true
   },
   "outputs": [],
   "source": [
    "from sklearn.preprocessing import StandardScaler\n",
    "\n",
    "\n",
    "\n",
    "\n",
    "col = ['Amount','Hour']\n",
    "sc =StandardScaler() \n",
    "data_new[col] =sc.fit_transform(data_new[col])\n",
    "\n",
    "data = data_new"
   ]
  },
  {
   "cell_type": "code",
   "execution_count": 6,
   "metadata": {
    "collapsed": false,
    "deletable": true,
    "editable": true
   },
   "outputs": [
    {
     "name": "stderr",
     "output_type": "stream",
     "text": [
      "/usr/local/Cellar/python3/3.6.0/Frameworks/Python.framework/Versions/3.6/lib/python3.6/site-packages/sklearn/cross_validation.py:41: DeprecationWarning: This module was deprecated in version 0.18 in favor of the model_selection module into which all the refactored classes and functions are moved. Also note that the interface of the new CV iterators are different from that of this module. This module will be removed in 0.20.\n",
      "  \"This module will be removed in 0.20.\", DeprecationWarning)\n",
      "/usr/local/Cellar/python3/3.6.0/Frameworks/Python.framework/Versions/3.6/lib/python3.6/site-packages/sklearn/grid_search.py:42: DeprecationWarning: This module was deprecated in version 0.18 in favor of the model_selection module into which all the refactored classes and functions are moved. This module will be removed in 0.20.\n",
      "  DeprecationWarning)\n",
      "/usr/local/Cellar/python3/3.6.0/Frameworks/Python.framework/Versions/3.6/lib/python3.6/site-packages/sklearn/utils/validation.py:578: DataConversionWarning: A column-vector y was passed when a 1d array was expected. Please change the shape of y to (n_samples, ), for example using ravel().\n",
      "  y = column_or_1d(y, warn=True)\n"
     ]
    }
   ],
   "source": [
    "from imblearn.over_sampling import SMOTE\n",
    "import itertools\n",
    "from sklearn.metrics import make_scorer\n",
    "from sklearn.metrics import confusion_matrix,precision_recall_curve,auc,roc_auc_score,roc_curve,recall_score,f1_score, precision_score\n",
    "\n",
    "from sklearn.grid_search import GridSearchCV\n",
    "from sklearn import cross_validation, metrics\n",
    "from sklearn.metrics import average_precision_score\n",
    "from sklearn.cross_validation import train_test_split\n",
    "\n",
    " # Whole dataset\n",
    "X = data.ix[:, data.columns != 'Class']\n",
    "y = data.ix[:, data.columns == 'Class']\n",
    "X_train, X_test, y_train, y_test = train_test_split(X,y,test_size = 0.3, random_state = 0)\n",
    "\n",
    "sm = SMOTE(random_state=0)\n",
    "columns = X_train.columns\n",
    "X_oversample,y_oversample=sm.fit_sample(X_train,y_train)"
   ]
  },
  {
   "cell_type": "code",
   "execution_count": 7,
   "metadata": {
    "collapsed": true,
    "deletable": true,
    "editable": true
   },
   "outputs": [],
   "source": [
    "X_oversample = pd.DataFrame(data=X_oversample,columns=columns )\n",
    "y_oversample= pd.DataFrame(data=y_oversample,columns=[\"Class\"])"
   ]
  },
  {
   "cell_type": "code",
   "execution_count": 8,
   "metadata": {
    "collapsed": false,
    "deletable": true,
    "editable": true
   },
   "outputs": [
    {
     "name": "stdout",
     "output_type": "stream",
     "text": [
      "X_oversample length:  398038\n",
      "Proportion of fraud data in oversampled data is  199019\n",
      "Proportion of normal data in oversampled data is  199019\n"
     ]
    }
   ],
   "source": [
    "print('X_oversample length: ', len(X_oversample))\n",
    "print('Proportion of fraud data in oversampled data is ', len(y_oversample[y_oversample['Class']==1]))\n",
    "print('Proportion of normal data in oversampled data is ', len(y_oversample[y_oversample['Class']==0]))"
   ]
  },
  {
   "cell_type": "code",
   "execution_count": 9,
   "metadata": {
    "collapsed": true,
    "deletable": true,
    "editable": true
   },
   "outputs": [],
   "source": [
    "X_train_smote, X_test_smote, y_train_smote, y_test_smote = train_test_split(X_oversample,y_oversample,test_size = 0.3,random_state = 0)"
   ]
  },
  {
   "cell_type": "code",
   "execution_count": 10,
   "metadata": {
    "collapsed": true,
    "deletable": true,
    "editable": true
   },
   "outputs": [],
   "source": [
    "c, r = y_train_smote.shape\n",
    "y_train_smote = y_train_smote.values.reshape(c,)"
   ]
  },
  {
   "cell_type": "code",
   "execution_count": 11,
   "metadata": {
    "collapsed": true,
    "deletable": true,
    "editable": true
   },
   "outputs": [],
   "source": [
    "import xgboost as xgb\n",
    "from xgboost.sklearn import XGBClassifier  #xgboost algorithm\n",
    "from sklearn import cross_validation, metrics   #Additional scklearn functions\n",
    "from sklearn.grid_search import GridSearchCV   #Perforing grid search\n",
    "\n",
    "target='Class'"
   ]
  },
  {
   "cell_type": "code",
   "execution_count": 12,
   "metadata": {
    "collapsed": true,
    "deletable": true,
    "editable": true
   },
   "outputs": [],
   "source": [
    "def modelfit(alg, X, y,useTrainCV=True, cv_folds=5, early_stopping_rounds=50):\n",
    "    \n",
    "    if useTrainCV:\n",
    "        xgb_param = alg.get_xgb_params()\n",
    "        xgtrain = xgb.DMatrix(X.values, label=y)\n",
    "        cvresult = xgb.cv(xgb_param, xgtrain, num_boost_round=alg.get_params()['n_estimators'], nfold=cv_folds,\n",
    "            metrics='auc', early_stopping_rounds=early_stopping_rounds)\n",
    "        alg.set_params(n_estimators=cvresult.shape[0])\n",
    "    \n",
    "    #Fit the algorithm on the data\n",
    "    alg.fit(X, y,eval_metric='auc')\n",
    "        \n",
    "    #Predict training set:\n",
    "    dtrain_predictions = alg.predict(X)\n",
    "    dtrain_predprob = alg.predict_proba(X)[:,1]\n",
    "        \n",
    "    #Print model report:\n",
    "    print(\"\\nModel Report\")\n",
    "    print(\"Recall : %.4g\" % metrics.recall_score(y, dtrain_predictions))\n",
    "    print(\"Precision : %.4g\" % metrics.precision_score(y, dtrain_predictions))\n",
    "    print (\"Average_precision : %.4g\" % metrics.average_precision_score(y, dtrain_predictions))\n",
    "    #print \"AUC Score (Train): %f\" % metrics.roc_auc_score(y, dtrain_predprob)\n",
    "                    \n",
    "    feat_imp = pd.Series(alg.get_booster().get_fscore()).sort_values(ascending=False)\n",
    "    feat_imp.plot(kind='bar', title='Feature Importances')\n",
    "    plt.ylabel('Feature Importance Score')"
   ]
  },
  {
   "cell_type": "code",
   "execution_count": 64,
   "metadata": {
    "collapsed": false,
    "deletable": true,
    "editable": true
   },
   "outputs": [
    {
     "name": "stderr",
     "output_type": "stream",
     "text": [
      "/usr/local/Cellar/python3/3.6.0/Frameworks/Python.framework/Versions/3.6/lib/python3.6/site-packages/sklearn/preprocessing/label.py:95: DataConversionWarning: A column-vector y was passed when a 1d array was expected. Please change the shape of y to (n_samples, ), for example using ravel().\n",
      "  y = column_or_1d(y, warn=True)\n",
      "/usr/local/Cellar/python3/3.6.0/Frameworks/Python.framework/Versions/3.6/lib/python3.6/site-packages/sklearn/preprocessing/label.py:128: DataConversionWarning: A column-vector y was passed when a 1d array was expected. Please change the shape of y to (n_samples, ), for example using ravel().\n",
      "  y = column_or_1d(y, warn=True)\n"
     ]
    },
    {
     "name": "stdout",
     "output_type": "stream",
     "text": [
      "\n",
      "Model Report\n",
      "Recall : 0.8299\n",
      "Precision : 0.9606\n",
      "Average_precision : 0.7976\n"
     ]
    },
    {
     "data": {
      "image/png": "[encoded data removed]",
      "text/plain": [
       "<matplotlib.figure.Figure at 0x11167a940>"
      ]
     },
     "metadata": {},
     "output_type": "display_data"
    }
   ],
   "source": [
    "xgb1 = XGBClassifier()\n",
    "modelfit(xgb1, X_test, y_test)"
   ]
  },
  {
   "cell_type": "code",
   "execution_count": 29,
   "metadata": {
    "collapsed": false,
    "deletable": true,
    "editable": true
   },
   "outputs": [],
   "source": [
    "xgb1 = XGBClassifier(\n",
    " learning_rate =0.1,\n",
    " n_estimators=1000,\n",
    " max_depth=5,\n",
    " min_child_weight=1,\n",
    " gamma=0,\n",
    " subsample=0.8,\n",
    " colsample_bytree=0.8,\n",
    " objective= 'binary:logistic',\n",
    " nthread=4,\n",
    " scale_pos_weight=1,\n",
    " seed=27)\n",
    "X=X_train_smote\n",
    "y=y_train_smote\n",
    "alg=xgb1\n",
    "cv_folds=5\n",
    "early_stopping_rounds=50\n",
    "\n",
    "xgb_param = alg.get_xgb_params()\n",
    "xgtrain = xgb.DMatrix(X.values, label=y)\n",
    "cvresult = xgb.cv(xgb_param, xgtrain, num_boost_round=alg.get_params()['n_estimators'], nfold=cv_folds,\n",
    "            metrics='auc', early_stopping_rounds=early_stopping_rounds)\n",
    "alg.set_params(n_estimators=cvresult.shape[0])\n",
    " #Fit the algorithm on the data\n",
    "alg.fit(X, y,eval_metric='auc')\n",
    "        \n",
    "    #Predict training set:\n",
    "dtrain_predictions = alg.predict(X)\n",
    "dtrain_predprob = alg.predict_proba(X)[:,1]"
   ]
  },
  {
   "cell_type": "code",
   "execution_count": 32,
   "metadata": {
    "collapsed": false,
    "deletable": true,
    "editable": true
   },
   "outputs": [
    {
     "name": "stdout",
     "output_type": "stream",
     "text": [
      "\n",
      "Model Report\n",
      "Recall : 1\n",
      "Precision : 1\n",
      "Average_precision : 1\n"
     ]
    }
   ],
   "source": [
    "print(\"\\nModel Report\")\n",
    "print(\"Recall : %.4g\" % metrics.recall_score(y, dtrain_predictions))\n",
    "print(\"Precision : %.4g\" % metrics.precision_score(y, dtrain_predictions))\n",
    "print (\"Average_precision : %.4g\" % metrics.average_precision_score(y, dtrain_predictions))"
   ]
  },
  {
   "cell_type": "code",
   "execution_count": 48,
   "metadata": {
    "collapsed": false,
    "deletable": true,
    "editable": true
   },
   "outputs": [
    {
     "data": {
      "text/plain": [
       "Text(0,0.5,'Feature Importance Score')"
      ]
     },
     "execution_count": 48,
     "metadata": {},
     "output_type": "execute_result"
    },
    {
     "data": {
      "image/png": "[encoded data removed]",
      "text/plain": [
       "<matplotlib.figure.Figure at 0x111ca4ef0>"
      ]
     },
     "metadata": {},
     "output_type": "display_data"
    }
   ],
   "source": [
    "feat_imp = pd.Series(alg.get_booster().get_fscore()).sort_values(ascending=False)\n",
    "feat_imp.plot(kind='bar', title='Feature Importances')\n",
    "plt.ylabel('Feature Importance Score')"
   ]
  },
  {
   "cell_type": "code",
   "execution_count": 49,
   "metadata": {
    "collapsed": false,
    "deletable": true,
    "editable": true
   },
   "outputs": [],
   "source": [
    "X_whole_prediction = alg.predict(X_test)"
   ]
  },
  {
   "cell_type": "code",
   "execution_count": 50,
   "metadata": {
    "collapsed": false,
    "deletable": true,
    "editable": true
   },
   "outputs": [
    {
     "name": "stdout",
     "output_type": "stream",
     "text": [
      "\n",
      "Model Report\n",
      "Recall : 0.8299\n",
      "Precision : 0.7219\n",
      "Average_precision : 0.5994\n"
     ]
    }
   ],
   "source": [
    "print(\"\\nModel Report\")\n",
    "print(\"Recall : %.4g\" % metrics.recall_score(y_test, X_whole_prediction))\n",
    "print(\"Precision : %.4g\" % metrics.precision_score(y_test, X_whole_prediction))\n",
    "print (\"Average_precision : %.4g\" % metrics.average_precision_score(y_test, X_whole_prediction))"
   ]
  },
  {
   "cell_type": "markdown",
   "metadata": {
    "deletable": true,
    "editable": true
   },
   "source": [
    "### Tune parameter"
   ]
  },
  {
   "cell_type": "code",
   "execution_count": 13,
   "metadata": {
    "collapsed": false,
    "deletable": true,
    "editable": true
   },
   "outputs": [
    {
     "data": {
      "text/plain": [
       "([mean: 0.99979, std: 0.00006, params: {'n_estimators': 80},\n",
       "  mean: 0.99987, std: 0.00005, params: {'n_estimators': 100},\n",
       "  mean: 0.99990, std: 0.00004, params: {'n_estimators': 120},\n",
       "  mean: 0.99993, std: 0.00004, params: {'n_estimators': 140},\n",
       "  mean: 0.99995, std: 0.00004, params: {'n_estimators': 160}],\n",
       " {'n_estimators': 160},\n",
       " 0.9999458225310767)"
      ]
     },
     "execution_count": 13,
     "metadata": {},
     "output_type": "execute_result"
    }
   ],
   "source": [
    "'''param_test1 = {\n",
    " 'max_depth':[7, 9, 10, 11],\n",
    " 'min_child_weight':list(range(1,6,2))\n",
    "}'''\n",
    "param_test1 = {\n",
    " 'n_estimators':[80, 100, 120, 140, 160],\n",
    "}\n",
    "gsearch1 = GridSearchCV(estimator = XGBClassifier( learning_rate =0.1, n_estimators=140, max_depth=5,\n",
    " min_child_weight=1, gamma=0, subsample=0.8, colsample_bytree=0.8,\n",
    " objective= 'binary:logistic', nthread=4, scale_pos_weight=1, seed=27), \n",
    " param_grid = param_test1, scoring='average_precision',n_jobs=4,iid=False, cv=5)\n",
    "gsearch1.fit(X_train_smote,y_train_smote)\n",
    "gsearch1.grid_scores_, gsearch1.best_params_, gsearch1.best_score_\n"
   ]
  },
  {
   "cell_type": "code",
   "execution_count": 12,
   "metadata": {
    "collapsed": false,
    "deletable": true,
    "editable": true
   },
   "outputs": [
    {
     "data": {
      "text/plain": [
       "([mean: 0.99998, std: 0.00002, params: {'max_depth': 7, 'min_child_weight': 1},\n",
       "  mean: 0.99997, std: 0.00002, params: {'max_depth': 7, 'min_child_weight': 3},\n",
       "  mean: 0.99996, std: 0.00003, params: {'max_depth': 7, 'min_child_weight': 5},\n",
       "  mean: 0.99998, std: 0.00002, params: {'max_depth': 9, 'min_child_weight': 1},\n",
       "  mean: 0.99998, std: 0.00002, params: {'max_depth': 9, 'min_child_weight': 3},\n",
       "  mean: 0.99998, std: 0.00002, params: {'max_depth': 9, 'min_child_weight': 5},\n",
       "  mean: 0.99998, std: 0.00002, params: {'max_depth': 10, 'min_child_weight': 1},\n",
       "  mean: 0.99998, std: 0.00002, params: {'max_depth': 10, 'min_child_weight': 3},\n",
       "  mean: 0.99997, std: 0.00002, params: {'max_depth': 10, 'min_child_weight': 5},\n",
       "  mean: 0.99999, std: 0.00001, params: {'max_depth': 11, 'min_child_weight': 1},\n",
       "  mean: 0.99998, std: 0.00002, params: {'max_depth': 11, 'min_child_weight': 3},\n",
       "  mean: 0.99997, std: 0.00002, params: {'max_depth': 11, 'min_child_weight': 5}],\n",
       " {'max_depth': 11, 'min_child_weight': 1},\n",
       " 0.9999876488564394)"
      ]
     },
     "execution_count": 12,
     "metadata": {},
     "output_type": "execute_result"
    }
   ],
   "source": [
    "param_test2 = {\n",
    " 'max_depth':[7, 9, 10, 11],\n",
    " 'min_child_weight':list(range(1,6,2))\n",
    "}\n",
    "\n",
    "gsearch2 = GridSearchCV(estimator = XGBClassifier( learning_rate =0.1, n_estimators=160, max_depth=5,\n",
    " min_child_weight=1, gamma=0, subsample=0.8, colsample_bytree=0.8,\n",
    " objective= 'binary:logistic', nthread=4, scale_pos_weight=1, seed=27), \n",
    " param_grid = param_test2, scoring='average_precision',n_jobs=4,iid=False, cv=5)\n",
    "gsearch2.fit(X_train_smote,y_train_smote)\n",
    "gsearch2.grid_scores_, gsearch2.best_params_, gsearch2.best_score_\n",
    "\n"
   ]
  },
  {
   "cell_type": "code",
   "execution_count": 12,
   "metadata": {
    "collapsed": false,
    "deletable": true,
    "editable": true
   },
   "outputs": [
    {
     "data": {
      "text/plain": [
       "([mean: 0.99999, std: 0.00001, params: {'gamma': 0.0},\n",
       "  mean: 0.99999, std: 0.00001, params: {'gamma': 0.1},\n",
       "  mean: 0.99998, std: 0.00002, params: {'gamma': 0.2},\n",
       "  mean: 0.99999, std: 0.00001, params: {'gamma': 0.3},\n",
       "  mean: 0.99999, std: 0.00001, params: {'gamma': 0.4}],\n",
       " {'gamma': 0.1},\n",
       " 0.9999896318678276)"
      ]
     },
     "execution_count": 12,
     "metadata": {},
     "output_type": "execute_result"
    }
   ],
   "source": [
    "param_test3 = {\n",
    " 'gamma':[i/10.0 for i in range(0,5)]\n",
    "}\n",
    "gsearch3 = GridSearchCV(estimator = XGBClassifier( learning_rate =0.1, n_estimators=160, max_depth=11,\n",
    " min_child_weight=1, gamma=0, subsample=0.8, colsample_bytree=0.8,\n",
    " objective= 'binary:logistic', nthread=4, scale_pos_weight=1, seed=27), \n",
    " param_grid = param_test3, scoring='average_precision',n_jobs=4,iid=False, cv=5)\n",
    "gsearch3.fit(X_train_smote,y_train_smote)\n",
    "gsearch3.grid_scores_, gsearch3.best_params_, gsearch3.best_score_\n",
    "\n"
   ]
  },
  {
   "cell_type": "code",
   "execution_count": 13,
   "metadata": {
    "collapsed": false,
    "deletable": true,
    "editable": true
   },
   "outputs": [],
   "source": [
    "xgb3 = XGBClassifier(\n",
    " learning_rate =0.1,\n",
    " n_estimators=160,\n",
    " max_depth=11,\n",
    " min_child_weight=1,\n",
    " gamma=0,\n",
    " subsample=0.8,\n",
    " colsample_bytree=0.8,\n",
    " objective= 'binary:logistic',\n",
    " nthread=4,\n",
    " scale_pos_weight=1,\n",
    " seed=27)\n",
    "X=X_train_smote\n",
    "y=y_train_smote\n",
    "alg=xgb3\n",
    "cv_folds=5\n",
    "early_stopping_rounds=50\n",
    "\n",
    "xgb_param = alg.get_xgb_params()\n",
    "xgtrain = xgb.DMatrix(X.values, label=y)\n",
    "cvresult = xgb.cv(xgb_param, xgtrain, num_boost_round=alg.get_params()['n_estimators'], nfold=cv_folds,\n",
    "            metrics='auc', early_stopping_rounds=early_stopping_rounds)\n",
    "alg.set_params(n_estimators=cvresult.shape[0])\n",
    " #Fit the algorithm on the data\n",
    "alg.fit(X, y,eval_metric='auc')\n",
    "        \n",
    "    #Predict training set:\n",
    "dtrain_predictions = alg.predict(X)\n",
    "dtrain_predprob = alg.predict_proba(X)[:,1]"
   ]
  },
  {
   "cell_type": "code",
   "execution_count": 14,
   "metadata": {
    "collapsed": false,
    "deletable": true,
    "editable": true
   },
   "outputs": [
    {
     "name": "stdout",
     "output_type": "stream",
     "text": [
      "\n",
      "Model Report\n",
      "Recall : 0.8367\n",
      "Precision : 0.764\n",
      "Average_precision : 0.6395\n"
     ]
    }
   ],
   "source": [
    "X_whole_prediction = alg.predict(X_test)\n",
    "print(\"\\nModel Report\")\n",
    "print(\"Recall : %.4g\" % metrics.recall_score(y_test, X_whole_prediction))\n",
    "print(\"Precision : %.4g\" % metrics.precision_score(y_test, X_whole_prediction))\n",
    "print (\"Average_precision : %.4g\" % metrics.average_precision_score(y_test, X_whole_prediction))"
   ]
  },
  {
   "cell_type": "code",
   "execution_count": 23,
   "metadata": {
    "collapsed": true,
    "deletable": true,
    "editable": true
   },
   "outputs": [],
   "source": [
    "xgb4 = XGBClassifier(\n",
    " learning_rate =0.1,\n",
    " n_estimators=400,\n",
    " max_depth=14,\n",
    " min_child_weight=1,\n",
    " gamma=0,\n",
    " subsample=0.8,\n",
    " colsample_bytree=0.8,\n",
    " objective= 'binary:logistic',\n",
    " nthread=4,\n",
    " scale_pos_weight=1,\n",
    " seed=27)\n",
    "X=X_train_smote\n",
    "y=y_train_smote\n",
    "alg=xgb4\n",
    "cv_folds=5\n",
    "early_stopping_rounds=50\n",
    "\n",
    "xgb_param = alg.get_xgb_params()\n",
    "xgtrain = xgb.DMatrix(X.values, label=y)\n",
    "cvresult = xgb.cv(xgb_param, xgtrain, num_boost_round=alg.get_params()['n_estimators'], nfold=cv_folds,\n",
    "            metrics='auc', early_stopping_rounds=early_stopping_rounds)\n",
    "alg.set_params(n_estimators=cvresult.shape[0])\n",
    " #Fit the algorithm on the data\n",
    "alg.fit(X, y,eval_metric='auc')\n",
    "        \n",
    "    #Predict training set:\n",
    "dtrain_predictions = alg.predict(X)\n",
    "dtrain_predprob = alg.predict_proba(X)[:,1]"
   ]
  },
  {
   "cell_type": "code",
   "execution_count": 20,
   "metadata": {
    "collapsed": false,
    "deletable": true,
    "editable": true
   },
   "outputs": [
    {
     "name": "stdout",
     "output_type": "stream",
     "text": [
      "\n",
      "Model Report\n",
      "Recall : 0.8367\n",
      "Precision : 0.7885\n",
      "Average_precision : 0.66\n"
     ]
    }
   ],
   "source": [
    "X_whole_prediction = alg.predict(X_test)\n",
    "print(\"\\nModel Report\")\n",
    "print(\"Recall : %.4g\" % metrics.recall_score(y_test, X_whole_prediction))\n",
    "print(\"Precision : %.4g\" % metrics.precision_score(y_test, X_whole_prediction))\n",
    "print (\"Average_precision : %.4g\" % metrics.average_precision_score(y_test, X_whole_prediction))"
   ]
  },
  {
   "cell_type": "code",
   "execution_count": 24,
   "metadata": {
    "collapsed": false,
    "deletable": true,
    "editable": true
   },
   "outputs": [
    {
     "name": "stdout",
     "output_type": "stream",
     "text": [
      "\n",
      "Model Report\n",
      "Recall : 0.8367\n",
      "Precision : 0.7885\n",
      "Average_precision : 0.66\n"
     ]
    }
   ],
   "source": [
    "X_whole_prediction = alg.predict(X_test)\n",
    "print(\"\\nModel Report\")\n",
    "print(\"Recall : %.4g\" % metrics.recall_score(y_test, X_whole_prediction))\n",
    "print(\"Precision : %.4g\" % metrics.precision_score(y_test, X_whole_prediction))\n",
    "print (\"Average_precision : %.4g\" % metrics.average_precision_score(y_test, X_whole_prediction))"
   ]
  },
  {
   "cell_type": "code",
   "execution_count": 25,
   "metadata": {
    "collapsed": true,
    "deletable": true,
    "editable": true
   },
   "outputs": [],
   "source": [
    "xgb5 = XGBClassifier(\n",
    " learning_rate =0.1,\n",
    " n_estimators=300,\n",
    " max_depth=12,\n",
    " min_child_weight=1,\n",
    " gamma=0,\n",
    " subsample=0.8,\n",
    " colsample_bytree=0.8,\n",
    " objective= 'binary:logistic',\n",
    " nthread=4,\n",
    " scale_pos_weight=1,\n",
    " seed=27)\n",
    "X=X_train_smote\n",
    "y=y_train_smote\n",
    "alg=xgb5\n",
    "cv_folds=5\n",
    "early_stopping_rounds=50\n",
    "\n",
    "xgb_param = alg.get_xgb_params()\n",
    "xgtrain = xgb.DMatrix(X.values, label=y)\n",
    "cvresult = xgb.cv(xgb_param, xgtrain, num_boost_round=alg.get_params()['n_estimators'], nfold=cv_folds,\n",
    "            metrics='auc', early_stopping_rounds=early_stopping_rounds)\n",
    "alg.set_params(n_estimators=cvresult.shape[0])\n",
    " #Fit the algorithm on the data\n",
    "alg.fit(X, y,eval_metric='auc')\n",
    "        \n",
    "    #Predict training set:\n",
    "dtrain_predictions = alg.predict(X)\n",
    "dtrain_predprob = alg.predict_proba(X)[:,1]"
   ]
  },
  {
   "cell_type": "code",
   "execution_count": 26,
   "metadata": {
    "collapsed": false,
    "deletable": true,
    "editable": true
   },
   "outputs": [
    {
     "name": "stdout",
     "output_type": "stream",
     "text": [
      "\n",
      "Model Report\n",
      "Recall : 0.8367\n",
      "Precision : 0.7834\n",
      "Average_precision : 0.6558\n"
     ]
    }
   ],
   "source": [
    "X_whole_prediction = alg.predict(X_test)\n",
    "print(\"\\nModel Report\")\n",
    "print(\"Recall : %.4g\" % metrics.recall_score(y_test, X_whole_prediction))\n",
    "print(\"Precision : %.4g\" % metrics.precision_score(y_test, X_whole_prediction))\n",
    "print (\"Average_precision : %.4g\" % metrics.average_precision_score(y_test, X_whole_prediction))"
   ]
  },
  {
   "cell_type": "code",
   "execution_count": 12,
   "metadata": {
    "collapsed": false,
    "deletable": true,
    "editable": true
   },
   "outputs": [
    {
     "data": {
      "text/plain": [
       "([mean: 0.99998, std: 0.00002, params: {'colsample_bytree': 0.6, 'subsample': 0.6},\n",
       "  mean: 0.99999, std: 0.00001, params: {'colsample_bytree': 0.6, 'subsample': 0.7},\n",
       "  mean: 0.99999, std: 0.00001, params: {'colsample_bytree': 0.6, 'subsample': 0.8},\n",
       "  mean: 0.99998, std: 0.00002, params: {'colsample_bytree': 0.7, 'subsample': 0.6},\n",
       "  mean: 0.99999, std: 0.00001, params: {'colsample_bytree': 0.7, 'subsample': 0.7},\n",
       "  mean: 0.99998, std: 0.00001, params: {'colsample_bytree': 0.7, 'subsample': 0.8},\n",
       "  mean: 0.99999, std: 0.00001, params: {'colsample_bytree': 0.8, 'subsample': 0.6},\n",
       "  mean: 0.99999, std: 0.00001, params: {'colsample_bytree': 0.8, 'subsample': 0.7},\n",
       "  mean: 0.99999, std: 0.00001, params: {'colsample_bytree': 0.8, 'subsample': 0.8}],\n",
       " {'colsample_bytree': 0.6, 'subsample': 0.7},\n",
       " 0.9999874741268193)"
      ]
     },
     "execution_count": 12,
     "metadata": {},
     "output_type": "execute_result"
    }
   ],
   "source": [
    "param_test6 = {\n",
    " 'subsample':[0.6, 0.7, 0.8],\n",
    " 'colsample_bytree':[0.6, 0.7, 0.8]\n",
    "}\n",
    "gsearch6 = GridSearchCV(estimator = XGBClassifier( learning_rate =0.1, n_estimators=360, max_depth=14,\n",
    " min_child_weight=1, gamma=0, subsample=0.8, colsample_bytree=0.8,\n",
    " objective= 'binary:logistic', nthread=4, scale_pos_weight=1, seed=27), \n",
    " param_grid = param_test6, scoring='average_precision',n_jobs=4,iid=False, cv=5)\n",
    "gsearch6.fit(X_train_smote,y_train_smote)\n",
    "gsearch6.grid_scores_, gsearch6.best_params_, gsearch6.best_score_\n"
   ]
  },
  {
   "cell_type": "code",
   "execution_count": 13,
   "metadata": {
    "collapsed": true,
    "deletable": true,
    "editable": true
   },
   "outputs": [],
   "source": [
    "xgb6 = XGBClassifier(\n",
    " learning_rate =0.1,\n",
    " n_estimators=360,\n",
    " max_depth=14,\n",
    " min_child_weight=1,\n",
    " gamma=0,\n",
    " subsample=0.7,\n",
    " colsample_bytree=0.6,\n",
    " objective= 'binary:logistic',\n",
    " nthread=4,\n",
    " scale_pos_weight=1,\n",
    " seed=27)\n",
    "X=X_train_smote\n",
    "y=y_train_smote\n",
    "alg=xgb6\n",
    "cv_folds=5\n",
    "early_stopping_rounds=50\n",
    "\n",
    "xgb_param = alg.get_xgb_params()\n",
    "xgtrain = xgb.DMatrix(X.values, label=y)\n",
    "cvresult = xgb.cv(xgb_param, xgtrain, num_boost_round=alg.get_params()['n_estimators'], nfold=cv_folds,\n",
    "            metrics='auc', early_stopping_rounds=early_stopping_rounds)\n",
    "alg.set_params(n_estimators=cvresult.shape[0])\n",
    " #Fit the algorithm on the data\n",
    "alg.fit(X, y,eval_metric='auc')\n",
    "        \n",
    "    #Predict training set:\n",
    "dtrain_predictions = alg.predict(X)\n",
    "dtrain_predprob = alg.predict_proba(X)[:,1]"
   ]
  },
  {
   "cell_type": "code",
   "execution_count": 14,
   "metadata": {
    "collapsed": false,
    "deletable": true,
    "editable": true
   },
   "outputs": [
    {
     "name": "stdout",
     "output_type": "stream",
     "text": [
      "\n",
      "Model Report\n",
      "Recall : 0.8367\n",
      "Precision : 0.8092\n",
      "Average_precision : 0.6774\n"
     ]
    }
   ],
   "source": [
    "X_whole_prediction = alg.predict(X_test)\n",
    "print(\"\\nModel Report\")\n",
    "print(\"Recall : %.4g\" % metrics.recall_score(y_test, X_whole_prediction))\n",
    "print(\"Precision : %.4g\" % metrics.precision_score(y_test, X_whole_prediction))\n",
    "print (\"Average_precision : %.4g\" % metrics.average_precision_score(y_test, X_whole_prediction))"
   ]
  },
  {
   "cell_type": "code",
   "execution_count": 13,
   "metadata": {
    "collapsed": false,
    "deletable": true,
    "editable": true
   },
   "outputs": [
    {
     "data": {
      "text/plain": [
       "([mean: 0.99999, std: 0.00001, params: {'reg_alpha': 1e-05},\n",
       "  mean: 0.99999, std: 0.00002, params: {'reg_alpha': 0.01},\n",
       "  mean: 0.99999, std: 0.00001, params: {'reg_alpha': 0.1},\n",
       "  mean: 0.99999, std: 0.00002, params: {'reg_alpha': 1},\n",
       "  mean: 0.99986, std: 0.00005, params: {'reg_alpha': 100}],\n",
       " {'reg_alpha': 0.1},\n",
       " 0.9999877601409801)"
      ]
     },
     "execution_count": 13,
     "metadata": {},
     "output_type": "execute_result"
    }
   ],
   "source": [
    "param_test7 = {\n",
    " 'reg_alpha':[1e-5, 1e-2, 0.1, 1, 100]\n",
    "}\n",
    "gsearch7 = GridSearchCV(estimator = XGBClassifier( learning_rate =0.1, n_estimators=360, max_depth=14,\n",
    " min_child_weight=1, gamma=0, subsample=0.7, colsample_bytree=0.6,\n",
    " objective= 'binary:logistic', nthread=4, scale_pos_weight=1, seed=27), \n",
    " param_grid = param_test7, scoring='average_precision',n_jobs=4,iid=False, cv=5)\n",
    "gsearch7.fit(X_train_smote,y_train_smote)\n",
    "gsearch7.grid_scores_, gsearch7.best_params_, gsearch7.best_score_\n",
    "\n"
   ]
  },
  {
   "cell_type": "code",
   "execution_count": 13,
   "metadata": {
    "collapsed": false,
    "deletable": true,
    "editable": true
   },
   "outputs": [
    {
     "data": {
      "text/plain": [
       "([mean: 0.99999, std: 0.00001, params: {'reg_alpha': 0},\n",
       "  mean: 0.99999, std: 0.00001, params: {'reg_alpha': 0.001},\n",
       "  mean: 0.99999, std: 0.00001, params: {'reg_alpha': 0.005},\n",
       "  mean: 0.99999, std: 0.00002, params: {'reg_alpha': 0.01},\n",
       "  mean: 0.99999, std: 0.00001, params: {'reg_alpha': 0.05}],\n",
       " {'reg_alpha': 0.05},\n",
       " 0.9999878066282637)"
      ]
     },
     "execution_count": 13,
     "metadata": {},
     "output_type": "execute_result"
    }
   ],
   "source": [
    "param_test7 = {\n",
    " 'reg_alpha':[0, 0.001, 0.005, 0.01, 0.05]\n",
    "}\n",
    "gsearch7 = GridSearchCV(estimator = XGBClassifier( learning_rate =0.1, n_estimators=360, max_depth=14,\n",
    " min_child_weight=1, gamma=0, subsample=0.7, colsample_bytree=0.6,\n",
    " objective= 'binary:logistic', nthread=4, scale_pos_weight=1, seed=27), \n",
    " param_grid = param_test7, scoring='average_precision',n_jobs=4,iid=False, cv=5)\n",
    "gsearch7.fit(X_train_smote,y_train_smote)\n",
    "gsearch7.grid_scores_, gsearch7.best_params_, gsearch7.best_score_"
   ]
  },
  {
   "cell_type": "code",
   "execution_count": 15,
   "metadata": {
    "collapsed": true,
    "deletable": true,
    "editable": true
   },
   "outputs": [],
   "source": [
    "\n",
    "xgb7 = XGBClassifier(\n",
    " learning_rate =0.1,\n",
    " n_estimators=360,\n",
    " max_depth=14,\n",
    " min_child_weight=1,\n",
    " gamma=0,\n",
    " subsample=0.7,\n",
    " colsample_bytree=0.6,\n",
    " objective= 'binary:logistic',\n",
    " reg_alpha=0.005,\n",
    " nthread=4,\n",
    " scale_pos_weight=1,\n",
    " seed=27)\n",
    "X=X_train_smote\n",
    "y=y_train_smote\n",
    "alg=xgb7\n",
    "cv_folds=5\n",
    "early_stopping_rounds=50\n",
    "\n",
    "xgb_param = alg.get_xgb_params()\n",
    "xgtrain = xgb.DMatrix(X.values, label=y)\n",
    "cvresult = xgb.cv(xgb_param, xgtrain, num_boost_round=alg.get_params()['n_estimators'], nfold=cv_folds,\n",
    "            metrics='auc', early_stopping_rounds=early_stopping_rounds)\n",
    "alg.set_params(n_estimators=cvresult.shape[0])\n",
    " #Fit the algorithm on the data\n",
    "alg.fit(X, y,eval_metric='auc')\n",
    "        \n",
    "    #Predict training set:\n",
    "dtrain_predictions = alg.predict(X)\n",
    "dtrain_predprob = alg.predict_proba(X)[:,1]\n",
    "    "
   ]
  },
  {
   "cell_type": "code",
   "execution_count": 16,
   "metadata": {
    "collapsed": false,
    "deletable": true,
    "editable": true
   },
   "outputs": [
    {
     "name": "stdout",
     "output_type": "stream",
     "text": [
      "\n",
      "Model Report\n",
      "Recall : 0.8299\n",
      "Precision : 0.7871\n",
      "Average_precision : 0.6535\n"
     ]
    }
   ],
   "source": [
    "X_whole_prediction = alg.predict(X_test)\n",
    "print(\"\\nModel Report\")\n",
    "print(\"Recall : %.4g\" % metrics.recall_score(y_test, X_whole_prediction))\n",
    "print(\"Precision : %.4g\" % metrics.precision_score(y_test, X_whole_prediction))\n",
    "print (\"Average_precision : %.4g\" % metrics.average_precision_score(y_test, X_whole_prediction))"
   ]
  },
  {
   "cell_type": "code",
   "execution_count": 38,
   "metadata": {
    "collapsed": true
   },
   "outputs": [],
   "source": [
    "xgb6 = XGBClassifier(\n",
    " learning_rate =0.1,\n",
    " n_estimators=200,\n",
    " max_depth=12,\n",
    " min_child_weight=1,\n",
    " gamma=0,\n",
    " subsample=0.7,\n",
    " colsample_bytree=0.6,\n",
    " objective= 'binary:logistic',\n",
    " nthread=4,\n",
    " scale_pos_weight=1,\n",
    " seed=27)\n",
    "X=X_train_smote\n",
    "y=y_train_smote\n",
    "alg=xgb6\n",
    "cv_folds=5\n",
    "early_stopping_rounds=50\n",
    "\n",
    "xgb_param = alg.get_xgb_params()\n",
    "xgtrain = xgb.DMatrix(X.values, label=y)\n",
    "cvresult = xgb.cv(xgb_param, xgtrain, num_boost_round=alg.get_params()['n_estimators'], nfold=cv_folds,\n",
    "            metrics='auc', early_stopping_rounds=early_stopping_rounds)\n",
    "alg.set_params(n_estimators=cvresult.shape[0])\n",
    " #Fit the algorithm on the data\n",
    "alg.fit(X, y,eval_metric='auc')\n",
    "        \n",
    "    #Predict training set:\n",
    "dtrain_predictions = alg.predict(X)\n",
    "dtrain_predprob = alg.predict_proba(X)[:,1]"
   ]
  },
  {
   "cell_type": "code",
   "execution_count": 36,
   "metadata": {
    "collapsed": false
   },
   "outputs": [
    {
     "name": "stdout",
     "output_type": "stream",
     "text": [
      "\n",
      "Model Report\n",
      "Recall : 0.8299\n",
      "Precision : 0.7771\n",
      "Average_precision : 0.6452\n"
     ]
    }
   ],
   "source": [
    "X_whole_prediction = alg.predict(X_test)\n",
    "print(\"\\nModel Report\")\n",
    "print(\"Recall : %.4g\" % metrics.recall_score(y_test, X_whole_prediction))\n",
    "print(\"Precision : %.4g\" % metrics.precision_score(y_test, X_whole_prediction))\n",
    "print (\"Average_precision : %.4g\" % metrics.average_precision_score(y_test, X_whole_prediction))"
   ]
  },
  {
   "cell_type": "code",
   "execution_count": null,
   "metadata": {
    "collapsed": true
   },
   "outputs": [],
   "source": []
  }
 ],
 "metadata": {
  "kernelspec": {
   "display_name": "Python 3",
   "language": "python",
   "name": "python3"
  },
  "language_info": {
   "codemirror_mode": {
    "name": "ipython",
    "version": 3
   },
   "file_extension": ".py",
   "mimetype": "text/x-python",
   "name": "python",
   "nbconvert_exporter": "python",
   "pygments_lexer": "ipython3",
   "version": "3.6.0"
  }
 },
 "nbformat": 4,
 "nbformat_minor": 2
}
